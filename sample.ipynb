{
 "cells": [
  {
   "cell_type": "code",
   "execution_count": 1,
   "metadata": {},
   "outputs": [],
   "source": [
    "\n",
    "\n",
    "from  ezlife.ml.benchmarker import Benchmarker\n",
    "\n",
    "benchmarker = Benchmarker(\n",
    "    model_id = \"openai-community/gpt2\",\n",
    "    backends = [\"hf\"],\n",
    ")"
   ]
  },
  {
   "cell_type": "code",
   "execution_count": 2,
   "metadata": {},
   "outputs": [
    {
     "name": "stdout",
     "output_type": "stream",
     "text": [
      "downloading model....\n",
      "Model already exists in /workspace/ezlife/ezlife/ml/benchmarker/loaders/models/openai-community_gpt2. Checking the model files...\n",
      "Checksum validated: model.safetensors  248dfc3911869ec493c76e65bf2fcf7f615828b0254c12b473182f0f81d3a707\n",
      "The following file is missing: /workspace/ezlife/ezlife/ml/benchmarker/loaders/models/openai-community_gpt2/pytorch_model.bin\n",
      "[-] Invalid checksums. Rerun download-model.py with the --clean flag.\n",
      "downloaded model\n",
      "loading model....\n",
      "model loaded, device - cuda:0\n",
      "warming up model....\n"
     ]
    },
    {
     "name": "stderr",
     "output_type": "stream",
     "text": [
      "/usr/local/lib/python3.10/dist-packages/transformers/generation/utils.py:1249: UserWarning: Using the model-agnostic default `max_length` (=20) to control the generation length. We recommend setting `max_new_tokens` to control the maximum length of the generation.\n",
      "  warnings.warn(\n"
     ]
    },
    {
     "name": "stdout",
     "output_type": "stream",
     "text": [
      "model warmed up\n",
      "decoded_text: What is the meaning of life?\n",
      "\n",
      "The meaning of life is the realization of the existence of\n",
      "decoded_text: What is the meaning of life?\n",
      "\n",
      "The meaning of life is the realization of the existence of\n",
      "decoded_text: What is the meaning of life?\n",
      "\n",
      "The meaning of life is the realization of the existence of\n",
      "decoded_text: What is the meaning of life?\n",
      "\n",
      "The meaning of life is the realization of the existence of\n",
      "decoded_text: What is the meaning of life?\n",
      "\n",
      "The meaning of life is the realization of the existence of\n",
      "decoded_text: What is the meaning of life?\n",
      "\n",
      "The meaning of life is the realization of the existence of\n",
      "decoded_text: What is the meaning of life?\n",
      "\n",
      "The meaning of life is the realization of the existence of\n",
      "decoded_text: What is the meaning of life?\n",
      "\n",
      "The meaning of life is the realization of the existence of\n",
      "decoded_text: What is the meaning of life?\n",
      "\n",
      "The meaning of life is the realization of the existence of\n",
      "decoded_text: What is the meaning of life?\n",
      "\n",
      "The meaning of life is the realization of the existence of\n",
      "decoded_text: What is the meaning of life?\n",
      "\n",
      "The meaning of life is the realization of the existence of\n",
      "decoded_text: What is the meaning of life?\n",
      "\n",
      "The meaning of life is the realization of the existence of\n",
      "decoded_text: What is the meaning of life?\n",
      "\n",
      "The meaning of life is the realization of the existence of\n",
      "decoded_text: What is the meaning of life?\n",
      "\n",
      "The meaning of life is the realization of the existence of\n",
      "decoded_text: What is the meaning of life?\n",
      "\n",
      "The meaning of life is the realization of the existence of\n",
      "decoded_text: What is the meaning of life?\n",
      "\n",
      "The meaning of life is the realization of the existence of\n",
      "decoded_text: What is the meaning of life?\n",
      "\n",
      "The meaning of life is the realization of the existence of\n",
      "decoded_text: What is the meaning of life?\n",
      "\n",
      "The meaning of life is the realization of the existence of\n",
      "decoded_text: What is the meaning of life?\n",
      "\n",
      "The meaning of life is the realization of the existence of\n",
      "decoded_text: What is the meaning of life?\n",
      "\n",
      "The meaning of life is the realization of the existence of\n"
     ]
    }
   ],
   "source": [
    "stats = benchmarker.bm_latency_single_sample()"
   ]
  },
  {
   "cell_type": "code",
   "execution_count": 3,
   "metadata": {},
   "outputs": [
    {
     "data": {
      "text/html": [
       "<div>\n",
       "<style scoped>\n",
       "    .dataframe tbody tr th:only-of-type {\n",
       "        vertical-align: middle;\n",
       "    }\n",
       "\n",
       "    .dataframe tbody tr th {\n",
       "        vertical-align: top;\n",
       "    }\n",
       "\n",
       "    .dataframe thead th {\n",
       "        text-align: right;\n",
       "    }\n",
       "</style>\n",
       "<table border=\"1\" class=\"dataframe\">\n",
       "  <thead>\n",
       "    <tr style=\"text-align: right;\">\n",
       "      <th></th>\n",
       "      <th>backend</th>\n",
       "      <th>latency_avg</th>\n",
       "      <th>latency_std</th>\n",
       "      <th>latency_p50</th>\n",
       "      <th>latency_p90</th>\n",
       "      <th>latency_p99</th>\n",
       "      <th>input_tokens</th>\n",
       "      <th>output_tokens</th>\n",
       "    </tr>\n",
       "  </thead>\n",
       "  <tbody>\n",
       "    <tr>\n",
       "      <th>0</th>\n",
       "      <td>hf</td>\n",
       "      <td>81.228636</td>\n",
       "      <td>1.890169</td>\n",
       "      <td>80.641268</td>\n",
       "      <td>85.536165</td>\n",
       "      <td>87.760728</td>\n",
       "      <td>7</td>\n",
       "      <td>20.0</td>\n",
       "    </tr>\n",
       "  </tbody>\n",
       "</table>\n",
       "</div>"
      ],
      "text/plain": [
       "  backend  latency_avg  latency_std  latency_p50  latency_p90  latency_p99  \\\n",
       "0      hf    81.228636     1.890169    80.641268    85.536165    87.760728   \n",
       "\n",
       "   input_tokens  output_tokens  \n",
       "0             7           20.0  "
      ]
     },
     "execution_count": 3,
     "metadata": {},
     "output_type": "execute_result"
    }
   ],
   "source": [
    "stats"
   ]
  },
  {
   "cell_type": "code",
   "execution_count": null,
   "metadata": {},
   "outputs": [],
   "source": []
  }
 ],
 "metadata": {
  "kernelspec": {
   "display_name": "Python 3",
   "language": "python",
   "name": "python3"
  },
  "language_info": {
   "codemirror_mode": {
    "name": "ipython",
    "version": 3
   },
   "file_extension": ".py",
   "mimetype": "text/x-python",
   "name": "python",
   "nbconvert_exporter": "python",
   "pygments_lexer": "ipython3",
   "version": "3.10.12"
  }
 },
 "nbformat": 4,
 "nbformat_minor": 2
}
