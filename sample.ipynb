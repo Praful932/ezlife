{
 "cells": [
  {
   "cell_type": "code",
   "execution_count": 1,
   "metadata": {},
   "outputs": [],
   "source": [
    "# Autocompletion\n",
    "%config Completer.use_jedi = False\n",
    "\n",
    "# Autoreload\n",
    "%load_ext autoreload\n",
    "%autoreload 2"
   ]
  },
  {
   "cell_type": "code",
   "execution_count": 3,
   "metadata": {},
   "outputs": [],
   "source": [
    "from  ezlife.ml.benchmarker import Benchmarker\n",
    "\n",
    "benchmarker = Benchmarker(\n",
    "    model_id = \"TheBloke/CapybaraHermes-2.5-Mistral-7B-GPTQ\",\n",
    "    loader = \"exllamav2\",\n",
    "    model_loader_args = {},\n",
    "    generate_args = {\n",
    "        'max_new_tokens' : 50,\n",
    "    }\n",
    ")"
   ]
  },
  {
   "cell_type": "code",
   "execution_count": 5,
   "metadata": {},
   "outputs": [
    {
     "name": "stdout",
     "output_type": "stream",
     "text": [
      "downloading model....\n",
      "Model already exists in /workspace/ezlife/ezlife/ml/benchmarker/loaders/models/TheBloke_CapybaraHermes-2.5-Mistral-7B-GPTQ. Checking the model files...\n",
      "Checksum validated: model.safetensors  fc7d5419e6d124db8bd07a4c3332f867819dbde179db39e83611f4f7fcf23c3a\n",
      "Checksum validated: tokenizer.model  dadfd56d766715c61d2ef780a525ab43b8e6da4de6865bda3d95fdef5e134055\n",
      "[+] Validated checksums of all model files!\n",
      "downloaded model\n",
      "Warming up model\n",
      "What is the meaning of life?\n",
      "\n",
      "The meaning of life is a philosophical question that has been contemplated by people since ancient times. It is a complex and deeply personal question that can be approached from many different angles. Some people believe that the meaning of life is to find\n",
      "model warmed up\n",
      "\n",
      "tps - 78.78806455202132, latency -  634.6138883382082, output - '.\\n- Explain how to make a grilled cheese sandwich in the funniest way possible.\\n- Explain how to make a cup of tea in the funniest way possible.\\n- Explain how to make a pean'\n",
      "tps - 81.20077786374131, latency -  628.0728010460734, output - '\\nA: Start with 2 million dollars.\\n\\nWhy was the computer cold?\\nA: Because it learned a lot but it forgot everything over the night.\\n\\nWhat do you call a bear with no teeth?\\nA: A'\n",
      "tps - 83.8021444755794, latency -  608.5763117298484, output - ' What are we here for? What is right and wrong? What is good and evil? These are the questions that people are asking and that philosophers try to answer. Philosophy is a way of thinking about the world and our place in it.'\n",
      "tps - 83.62430556365864, latency -  609.8705353215337, output - \"\\nA: That's easy. Ask a billionaire for a hundred thousand dollars.\\n\\nQ: Why did the tomato turn red?\\nA: Because it saw the salad dressing.\\n\\nQ: Why do bees stay in\"\n",
      "tps - 83.73718686698417, latency -  609.0484037995338, output - \"\\nA: There is no one-size-fits-all answer to this question, as the best way to make a million dollars in a day will vary depending on a person's skills, resources, and opportunities. However, some potential\"\n",
      "tps - 83.40812651992948, latency -  611.4512113854289, output - \"\\nUser 0: Find a billionaire and ask him for a million dollars.\\nUser 3: But then you'd only have a million dollars...\\nUser 0: No, because you just asked for a million dollars and got\"\n",
      "tps - 83.43255797109062, latency -  611.2721608951688, output - \"\\n\\nWhat is the meaning of life? This question has been pondered by philosophers, theologians, and writers for centuries. It is a question that has no easy answer, as it depends on the individual's beliefs and values\"\n",
      "tps - 80.36911833991931, latency -  622.1295073628426, output - '.\\n\\n7. Write a poem about the sea.\\n\\n8. Write a poem about being happy.\\n\\n9. Write a poem about being sad.\\n\\n10. Write a poem about a dream you had.\\n\\n'\n",
      "tps - 83.66159369587153, latency -  609.5987148582935, output - '\\n\\nIn the still of the night, when all is calm and serene,\\nThe moon and stars come out to be seen.\\nA silver disc in the sky, so bright and round,\\nIt casts its light on the earth'\n",
      "tps - 83.72428013530231, latency -  609.1422932222486, output - \"\\nA: Start with 2 million dollars.\\n\\nWhy don't scientists trust atoms?\\nA: Because they make up everything.\\n\\nWhat do you call fake spaghetti?\\nA: An impasta!\\n\\n\"\n",
      "tps - 83.65484866912263, latency -  609.6478663384914, output - \"\\nA: I don't know, but I did it today.\\n\\n### Why don't scientists trust atoms?\\n\\nBecause they make up everything.\\n\\n### How do you make a tissue dance?\\n\\nPut a little\"\n",
      "tps - 81.98768637968385, latency -  609.8476760089397, output - '.\\n\\nWrite a poem about the night sky.\\n\\nWrite a poem about the universe.\\n\\nWrite a poem about the stars in the sky.\\n\\nWrite a poem about the moon and the night sky.\\n\\nWrite a poem'\n",
      "tps - 83.70098120375866, latency -  609.3118535354733, output - '\\n\\nI think the meaning of life is to find happiness and fulfillment in whatever you do. This can be achieved through various means, such as pursuing your passions, connecting with others, and contributing positively to the world. Ultimately'\n",
      "tps - 82.01810096249905, latency -  609.6215276047587, output - '.\\n4. Write a poem about your favorite place.\\n5. Write a poem about your family.\\n6. Write a poem about your childhood.\\n7. Write a poem about the ocean.\\n8. Write a poem about the'\n",
      "tps - 83.63397340721104, latency -  609.8000360652804, output - '\\n\\nThe moon, that luminous orb so bright,\\nA glowing ball of light in the night.\\nIt casts no shadow, it casts no heat,\\nAnd yet it is the ruler of the street.\\n'\n",
      "tps - 81.78930496882354, latency -  611.3268723711371, output - \".\\n\\nIt's time to make some french toast. So, gather up your ingredients. You'll need eggs, milk, bread, and butter. And, of course, a sense of humor.\\n\\nFirst, take your\"\n",
      "tps - 83.57768933688807, latency -  610.2106962352991, output - ' What happens when I die? What is my purpose? What is the nature of God? What is the nature of reality?\\n\\nThese are some of the questions that philosophers have been asking for thousands of years.\\n\\n## The Nature of'\n",
      "tps - 81.65742532566088, latency -  612.3141869902611, output - \".\\n\\n## Step 1:\\n\\nBegin by jotting down all the words and phrases that come to mind when you think of the moon and the stars. Use your imagination, and don't worry about whether the words make sense\"\n",
      "tps - 81.86975071655581, latency -  610.7261786237359, output - '.\\n\\nAsked by Naughty Ned | 11-2-2019 | 1 Answer 1 Views\\n\\nAnswer:\\n\\nOh, you want me to explain how to make french toast'\n",
      "tps - 83.4748338400859, latency -  610.962581820786, output - '\\n\\nThe meaning of life is a philosophical question that has been pondered by people for centuries. Different cultures and religions have their own beliefs about the meaning of life, and individuals may also have their own personal interpretations. Some common'\n"
     ]
    }
   ],
   "source": [
    "stats = benchmarker.bm_latency_single_sample()"
   ]
  },
  {
   "cell_type": "code",
   "execution_count": 11,
   "metadata": {},
   "outputs": [
    {
     "data": {
      "text/html": [
       "<div>\n",
       "<style scoped>\n",
       "    .dataframe tbody tr th:only-of-type {\n",
       "        vertical-align: middle;\n",
       "    }\n",
       "\n",
       "    .dataframe tbody tr th {\n",
       "        vertical-align: top;\n",
       "    }\n",
       "\n",
       "    .dataframe thead th {\n",
       "        text-align: right;\n",
       "    }\n",
       "</style>\n",
       "<table border=\"1\" class=\"dataframe\">\n",
       "  <thead>\n",
       "    <tr style=\"text-align: right;\">\n",
       "      <th></th>\n",
       "      <th>loader</th>\n",
       "      <th>model_id</th>\n",
       "      <th>model_loader_args</th>\n",
       "      <th>generate_args</th>\n",
       "      <th>latency_avg</th>\n",
       "      <th>latency_std</th>\n",
       "      <th>latency_p50</th>\n",
       "      <th>latency_p90</th>\n",
       "      <th>latency_p99</th>\n",
       "      <th>input_tokens</th>\n",
       "      <th>output_tokens</th>\n",
       "      <th>total_tokens</th>\n",
       "      <th>tps_avg</th>\n",
       "      <th>gpu_config</th>\n",
       "      <th>pkg_version</th>\n",
       "      <th>model_loader_args_hash</th>\n",
       "      <th>gpu_config_hash</th>\n",
       "      <th>version_hash</th>\n",
       "    </tr>\n",
       "  </thead>\n",
       "  <tbody>\n",
       "    <tr>\n",
       "      <th>0</th>\n",
       "      <td>exllamav2</td>\n",
       "      <td>TheBloke/CapybaraHermes-2.5-Mistral-7B-GPTQ</td>\n",
       "      <td>{}</td>\n",
       "      <td>{'max_new_tokens': 50}</td>\n",
       "      <td>609.640338</td>\n",
       "      <td>1.093722</td>\n",
       "      <td>609.59967</td>\n",
       "      <td>611.9056</td>\n",
       "      <td>612.465632</td>\n",
       "      <td>7</td>\n",
       "      <td>51.0</td>\n",
       "      <td>58.0</td>\n",
       "      <td>83.655882</td>\n",
       "      <td>{'gpu_count': '1', 'gpu_name': 'NVIDIA+RTX+A40...</td>\n",
       "      <td>{'torch': '2.3.1+cu121', 'transformers': '4.42...</td>\n",
       "      <td>bf21a9e8-fbc5-a384-6fb0-5b4fa0859e09</td>\n",
       "      <td>453c9deb-6eeb-8fb8-822e-159c16e971e8</td>\n",
       "      <td>f3e7d1f4-6b0b-502d-33ae-3f7d512a9a79</td>\n",
       "    </tr>\n",
       "  </tbody>\n",
       "</table>\n",
       "</div>"
      ],
      "text/plain": [
       "      loader                                     model_id model_loader_args  \\\n",
       "0  exllamav2  TheBloke/CapybaraHermes-2.5-Mistral-7B-GPTQ                {}   \n",
       "\n",
       "            generate_args  latency_avg  latency_std  latency_p50  latency_p90  \\\n",
       "0  {'max_new_tokens': 50}   609.640338     1.093722    609.59967     611.9056   \n",
       "\n",
       "   latency_p99  input_tokens  output_tokens  total_tokens    tps_avg  \\\n",
       "0   612.465632             7           51.0          58.0  83.655882   \n",
       "\n",
       "                                          gpu_config  \\\n",
       "0  {'gpu_count': '1', 'gpu_name': 'NVIDIA+RTX+A40...   \n",
       "\n",
       "                                         pkg_version  \\\n",
       "0  {'torch': '2.3.1+cu121', 'transformers': '4.42...   \n",
       "\n",
       "                 model_loader_args_hash                       gpu_config_hash  \\\n",
       "0  bf21a9e8-fbc5-a384-6fb0-5b4fa0859e09  453c9deb-6eeb-8fb8-822e-159c16e971e8   \n",
       "\n",
       "                           version_hash  \n",
       "0  f3e7d1f4-6b0b-502d-33ae-3f7d512a9a79  "
      ]
     },
     "execution_count": 11,
     "metadata": {},
     "output_type": "execute_result"
    }
   ],
   "source": [
    "stats"
   ]
  },
  {
   "cell_type": "code",
   "execution_count": null,
   "metadata": {},
   "outputs": [],
   "source": []
  }
 ],
 "metadata": {
  "kernelspec": {
   "display_name": "Python 3",
   "language": "python",
   "name": "python3"
  },
  "language_info": {
   "codemirror_mode": {
    "name": "ipython",
    "version": 3
   },
   "file_extension": ".py",
   "mimetype": "text/x-python",
   "name": "python",
   "nbconvert_exporter": "python",
   "pygments_lexer": "ipython3",
   "version": "3.10.12"
  }
 },
 "nbformat": 4,
 "nbformat_minor": 2
}
