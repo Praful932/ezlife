{
 "cells": [
  {
   "cell_type": "code",
   "execution_count": 1,
   "metadata": {},
   "outputs": [],
   "source": [
    "# Autocompletion\n",
    "%config Completer.use_jedi = False\n",
    "\n",
    "# Autoreload\n",
    "%load_ext autoreload\n",
    "%autoreload 2"
   ]
  },
  {
   "cell_type": "code",
   "execution_count": 2,
   "metadata": {},
   "outputs": [
    {
     "data": {
      "text/plain": [
       "('2.3.1+cu121', True)"
      ]
     },
     "execution_count": 2,
     "metadata": {},
     "output_type": "execute_result"
    }
   ],
   "source": [
    "import torch\n",
    "\n",
    "torch.__version__, torch.cuda.is_available()"
   ]
  },
  {
   "cell_type": "code",
   "execution_count": 3,
   "metadata": {},
   "outputs": [
    {
     "name": "stderr",
     "output_type": "stream",
     "text": [
      "/workspace/ezlife/.venv/lib/python3.10/site-packages/tqdm/auto.py:21: TqdmWarning: IProgress not found. Please update jupyter and ipywidgets. See https://ipywidgets.readthedocs.io/en/stable/user_install.html\n",
      "  from .autonotebook import tqdm as notebook_tqdm\n"
     ]
    }
   ],
   "source": [
    "from  ezlife.ml.benchmarker import Benchmarker\n",
    "\n",
    "benchmarker = Benchmarker(\n",
    "    model_id = \"openai-community/gpt2\",\n",
    "    loader = \"hf\",\n",
    "    model_loader_args = {\n",
    "        'torch_dtype' : torch.bfloat16\n",
    "    },\n",
    "    generate_args = {\n",
    "        'max_new_tokens' : 50,\n",
    "    }\n",
    ")"
   ]
  },
  {
   "cell_type": "code",
   "execution_count": 5,
   "metadata": {},
   "outputs": [
    {
     "name": "stdout",
     "output_type": "stream",
     "text": [
      "downloading model....\n",
      "Model already exists in /workspace/ezlife/ezlife/ml/benchmarker/loaders/models/openai-community_gpt2. Checking the model files...\n",
      "Checksum validated: model.safetensors  248dfc3911869ec493c76e65bf2fcf7f615828b0254c12b473182f0f81d3a707\n",
      "The following file is missing: /workspace/ezlife/ezlife/ml/benchmarker/loaders/models/openai-community_gpt2/pytorch_model.bin\n",
      "[-] Invalid checksums. Rerun download-model.py with the --clean flag.\n",
      "downloaded model\n",
      "loading model....\n",
      "model loaded, device - cuda:0\n",
      "warming up model....\n",
      "model warmed up\n",
      "decoded_text: What is the meaning of life?\n",
      "\n",
      "The meaning of life is the realization of the existence of a being, the existence of a being that is not a being, the existence of a being that is not a being, the existence of a being that is not a being, the\n",
      "decoded_text: What is the meaning of life?\n",
      "\n",
      "The meaning of life is the realization of the existence of a being, the existence of a being that is not a being, the existence of a being that is not a being, the existence of a being that is not a being, the\n",
      "decoded_text: What is the meaning of life?\n",
      "\n",
      "The meaning of life is the realization of the existence of a being, the existence of a being that is not a being, the existence of a being that is not a being, the existence of a being that is not a being, the\n",
      "decoded_text: What is the meaning of life?\n",
      "\n",
      "The meaning of life is the realization of the existence of a being, the existence of a being that is not a being, the existence of a being that is not a being, the existence of a being that is not a being, the\n",
      "decoded_text: What is the meaning of life?\n",
      "\n",
      "The meaning of life is the realization of the existence of a being, the existence of a being that is not a being, the existence of a being that is not a being, the existence of a being that is not a being, the\n",
      "decoded_text: What is the meaning of life?\n",
      "\n",
      "The meaning of life is the realization of the existence of a being, the existence of a being that is not a being, the existence of a being that is not a being, the existence of a being that is not a being, the\n",
      "decoded_text: What is the meaning of life?\n",
      "\n",
      "The meaning of life is the realization of the existence of a being, the existence of a being that is not a being, the existence of a being that is not a being, the existence of a being that is not a being, the\n",
      "decoded_text: What is the meaning of life?\n",
      "\n",
      "The meaning of life is the realization of the existence of a being, the existence of a being that is not a being, the existence of a being that is not a being, the existence of a being that is not a being, the\n",
      "decoded_text: What is the meaning of life?\n",
      "\n",
      "The meaning of life is the realization of the existence of a being, the existence of a being that is not a being, the existence of a being that is not a being, the existence of a being that is not a being, the\n",
      "decoded_text: What is the meaning of life?\n",
      "\n",
      "The meaning of life is the realization of the existence of a being, the existence of a being that is not a being, the existence of a being that is not a being, the existence of a being that is not a being, the\n",
      "decoded_text: What is the meaning of life?\n",
      "\n",
      "The meaning of life is the realization of the existence of a being, the existence of a being that is not a being, the existence of a being that is not a being, the existence of a being that is not a being, the\n",
      "decoded_text: What is the meaning of life?\n",
      "\n",
      "The meaning of life is the realization of the existence of a being, the existence of a being that is not a being, the existence of a being that is not a being, the existence of a being that is not a being, the\n",
      "decoded_text: What is the meaning of life?\n",
      "\n",
      "The meaning of life is the realization of the existence of a being, the existence of a being that is not a being, the existence of a being that is not a being, the existence of a being that is not a being, the\n",
      "decoded_text: What is the meaning of life?\n",
      "\n",
      "The meaning of life is the realization of the existence of a being, the existence of a being that is not a being, the existence of a being that is not a being, the existence of a being that is not a being, the\n",
      "decoded_text: What is the meaning of life?\n",
      "\n",
      "The meaning of life is the realization of the existence of a being, the existence of a being that is not a being, the existence of a being that is not a being, the existence of a being that is not a being, the\n",
      "decoded_text: What is the meaning of life?\n",
      "\n",
      "The meaning of life is the realization of the existence of a being, the existence of a being that is not a being, the existence of a being that is not a being, the existence of a being that is not a being, the\n",
      "decoded_text: What is the meaning of life?\n",
      "\n",
      "The meaning of life is the realization of the existence of a being, the existence of a being that is not a being, the existence of a being that is not a being, the existence of a being that is not a being, the\n",
      "decoded_text: What is the meaning of life?\n",
      "\n",
      "The meaning of life is the realization of the existence of a being, the existence of a being that is not a being, the existence of a being that is not a being, the existence of a being that is not a being, the\n",
      "decoded_text: What is the meaning of life?\n",
      "\n",
      "The meaning of life is the realization of the existence of a being, the existence of a being that is not a being, the existence of a being that is not a being, the existence of a being that is not a being, the\n",
      "decoded_text: What is the meaning of life?\n",
      "\n",
      "The meaning of life is the realization of the existence of a being, the existence of a being that is not a being, the existence of a being that is not a being, the existence of a being that is not a being, the\n"
     ]
    }
   ],
   "source": [
    "stats = benchmarker.bm_latency_single_sample()"
   ]
  },
  {
   "cell_type": "code",
   "execution_count": 6,
   "metadata": {},
   "outputs": [
    {
     "data": {
      "text/html": [
       "<div>\n",
       "<style scoped>\n",
       "    .dataframe tbody tr th:only-of-type {\n",
       "        vertical-align: middle;\n",
       "    }\n",
       "\n",
       "    .dataframe tbody tr th {\n",
       "        vertical-align: top;\n",
       "    }\n",
       "\n",
       "    .dataframe thead th {\n",
       "        text-align: right;\n",
       "    }\n",
       "</style>\n",
       "<table border=\"1\" class=\"dataframe\">\n",
       "  <thead>\n",
       "    <tr style=\"text-align: right;\">\n",
       "      <th></th>\n",
       "      <th>loader</th>\n",
       "      <th>model_id</th>\n",
       "      <th>model_loader_args</th>\n",
       "      <th>generate_args</th>\n",
       "      <th>latency_avg</th>\n",
       "      <th>latency_std</th>\n",
       "      <th>latency_p50</th>\n",
       "      <th>latency_p90</th>\n",
       "      <th>latency_p99</th>\n",
       "      <th>input_tokens</th>\n",
       "      <th>output_tokens</th>\n",
       "      <th>total_tokens</th>\n",
       "      <th>tps_avg</th>\n",
       "      <th>gpu_config</th>\n",
       "      <th>gpu_config_hash</th>\n",
       "      <th>pkg_version</th>\n",
       "      <th>version_hash</th>\n",
       "    </tr>\n",
       "  </thead>\n",
       "  <tbody>\n",
       "    <tr>\n",
       "      <th>0</th>\n",
       "      <td>hf</td>\n",
       "      <td>openai-community/gpt2</td>\n",
       "      <td>{'torch_dtype': torch.bfloat16}</td>\n",
       "      <td>{'max_new_tokens': 50}</td>\n",
       "      <td>326.580039</td>\n",
       "      <td>1.466465</td>\n",
       "      <td>326.188378</td>\n",
       "      <td>328.659005</td>\n",
       "      <td>329.396106</td>\n",
       "      <td>7</td>\n",
       "      <td>57.0</td>\n",
       "      <td>64.0</td>\n",
       "      <td>174.536081</td>\n",
       "      <td>{'gpu_count': '1', 'gpu_name': 'NVIDIA+RTX+A45...</td>\n",
       "      <td>51035ab5-e012-b711-a2b5-6ab338d83965</td>\n",
       "      <td>{'torch': '2.3.1+cu121', 'transformers': '4.42...</td>\n",
       "      <td>9addc6a4-6c67-4568-b818-948710582a8a</td>\n",
       "    </tr>\n",
       "  </tbody>\n",
       "</table>\n",
       "</div>"
      ],
      "text/plain": [
       "  loader               model_id                model_loader_args  \\\n",
       "0     hf  openai-community/gpt2  {'torch_dtype': torch.bfloat16}   \n",
       "\n",
       "            generate_args  latency_avg  latency_std  latency_p50  latency_p90  \\\n",
       "0  {'max_new_tokens': 50}   326.580039     1.466465   326.188378   328.659005   \n",
       "\n",
       "   latency_p99  input_tokens  output_tokens  total_tokens     tps_avg  \\\n",
       "0   329.396106             7           57.0          64.0  174.536081   \n",
       "\n",
       "                                          gpu_config  \\\n",
       "0  {'gpu_count': '1', 'gpu_name': 'NVIDIA+RTX+A45...   \n",
       "\n",
       "                        gpu_config_hash  \\\n",
       "0  51035ab5-e012-b711-a2b5-6ab338d83965   \n",
       "\n",
       "                                         pkg_version  \\\n",
       "0  {'torch': '2.3.1+cu121', 'transformers': '4.42...   \n",
       "\n",
       "                           version_hash  \n",
       "0  9addc6a4-6c67-4568-b818-948710582a8a  "
      ]
     },
     "execution_count": 6,
     "metadata": {},
     "output_type": "execute_result"
    }
   ],
   "source": [
    "stats"
   ]
  },
  {
   "cell_type": "code",
   "execution_count": 12,
   "metadata": {},
   "outputs": [
    {
     "data": {
      "text/html": [
       "<div>\n",
       "<style scoped>\n",
       "    .dataframe tbody tr th:only-of-type {\n",
       "        vertical-align: middle;\n",
       "    }\n",
       "\n",
       "    .dataframe tbody tr th {\n",
       "        vertical-align: top;\n",
       "    }\n",
       "\n",
       "    .dataframe thead th {\n",
       "        text-align: right;\n",
       "    }\n",
       "</style>\n",
       "<table border=\"1\" class=\"dataframe\">\n",
       "  <thead>\n",
       "    <tr style=\"text-align: right;\">\n",
       "      <th></th>\n",
       "      <th>loader</th>\n",
       "      <th>model_id</th>\n",
       "      <th>model_loader_args</th>\n",
       "      <th>generate_args</th>\n",
       "      <th>latency_avg</th>\n",
       "      <th>latency_std</th>\n",
       "      <th>latency_p50</th>\n",
       "      <th>latency_p90</th>\n",
       "      <th>latency_p99</th>\n",
       "      <th>input_tokens</th>\n",
       "      <th>output_tokens</th>\n",
       "      <th>total_tokens</th>\n",
       "      <th>tps_avg</th>\n",
       "      <th>gpu_config</th>\n",
       "      <th>gpu_config_hash</th>\n",
       "      <th>pkg_version</th>\n",
       "      <th>version_hash</th>\n",
       "    </tr>\n",
       "  </thead>\n",
       "  <tbody>\n",
       "    <tr>\n",
       "      <th>0</th>\n",
       "      <td>hf</td>\n",
       "      <td>openai-community/gpt2</td>\n",
       "      <td>{'torch_dtype': torch.bfloat16}</td>\n",
       "      <td>{'max_new_tokens': 50}</td>\n",
       "      <td>323.867282</td>\n",
       "      <td>0.67875</td>\n",
       "      <td>323.807426</td>\n",
       "      <td>324.279584</td>\n",
       "      <td>326.304547</td>\n",
       "      <td>7</td>\n",
       "      <td>57.0</td>\n",
       "      <td>64.0</td>\n",
       "      <td>175.998019</td>\n",
       "      <td>{'gpu_count': '1', 'gpu_name': 'NVIDIA+RTX+A45...</td>\n",
       "      <td>8f9447dd-7fe9-cc5f-d031-59dea875d728</td>\n",
       "      <td>{'torch': '2.3.1+cu121', 'transformers': '4.42...</td>\n",
       "      <td>9addc6a4-6c67-4568-b818-948710582a8a</td>\n",
       "    </tr>\n",
       "  </tbody>\n",
       "</table>\n",
       "</div>"
      ],
      "text/plain": [
       "  loader               model_id                model_loader_args  \\\n",
       "0     hf  openai-community/gpt2  {'torch_dtype': torch.bfloat16}   \n",
       "\n",
       "            generate_args  latency_avg  latency_std  latency_p50  latency_p90  \\\n",
       "0  {'max_new_tokens': 50}   323.867282      0.67875   323.807426   324.279584   \n",
       "\n",
       "   latency_p99  input_tokens  output_tokens  total_tokens     tps_avg  \\\n",
       "0   326.304547             7           57.0          64.0  175.998019   \n",
       "\n",
       "                                          gpu_config  \\\n",
       "0  {'gpu_count': '1', 'gpu_name': 'NVIDIA+RTX+A45...   \n",
       "\n",
       "                        gpu_config_hash  \\\n",
       "0  8f9447dd-7fe9-cc5f-d031-59dea875d728   \n",
       "\n",
       "                                         pkg_version  \\\n",
       "0  {'torch': '2.3.1+cu121', 'transformers': '4.42...   \n",
       "\n",
       "                           version_hash  \n",
       "0  9addc6a4-6c67-4568-b818-948710582a8a  "
      ]
     },
     "execution_count": 12,
     "metadata": {},
     "output_type": "execute_result"
    }
   ],
   "source": []
  },
  {
   "cell_type": "code",
   "execution_count": null,
   "metadata": {},
   "outputs": [],
   "source": []
  }
 ],
 "metadata": {
  "kernelspec": {
   "display_name": "Python 3",
   "language": "python",
   "name": "python3"
  },
  "language_info": {
   "codemirror_mode": {
    "name": "ipython",
    "version": 3
   },
   "file_extension": ".py",
   "mimetype": "text/x-python",
   "name": "python",
   "nbconvert_exporter": "python",
   "pygments_lexer": "ipython3",
   "version": "3.10.12"
  }
 },
 "nbformat": 4,
 "nbformat_minor": 2
}
